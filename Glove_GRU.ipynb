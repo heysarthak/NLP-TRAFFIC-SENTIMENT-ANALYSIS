{
  "nbformat": 4,
  "nbformat_minor": 0,
  "metadata": {
    "accelerator": "GPU",
    "colab": {
      "name": "Glove_GRU.ipynb",
      "provenance": [],
      "collapsed_sections": []
    },
    "kernelspec": {
      "display_name": "Python 3",
      "name": "python3"
    },
    "language_info": {
      "name": "python"
    }
  },
  "cells": [
    {
      "cell_type": "code",
      "metadata": {
        "id": "UJwnCyDZOo0x"
      },
      "source": [
        "import pandas as pd\n",
        "import numpy as np\n",
        "df=pd.read_csv(\"/content/FINAL_DATA2.csv\")\n",
        "df.cleanData=df.cleanData.astype(str)"
      ],
      "execution_count": null,
      "outputs": []
    },
    {
      "cell_type": "code",
      "metadata": {
        "colab": {
          "base_uri": "https://localhost:8080/"
        },
        "id": "CnZxGAIfO2f2",
        "outputId": "246d0df6-31b9-4ed6-e17d-36bad8120b7a"
      },
      "source": [
        "#df['word_length'] = df['cleanData'].apply(lambda x:len(x.split()))\n",
        "df.dtypes"
      ],
      "execution_count": null,
      "outputs": [
        {
          "output_type": "execute_result",
          "data": {
            "text/plain": [
              "twitter_id             int64\n",
              "content               object\n",
              "location              object\n",
              "search_word            int64\n",
              "word_length            int64\n",
              "cleanData             object\n",
              "location_extracted    object\n",
              "dtype: object"
            ]
          },
          "metadata": {},
          "execution_count": 3
        }
      ]
    },
    {
      "cell_type": "code",
      "metadata": {
        "id": "aGZF26HYO4sv"
      },
      "source": [
        "from sklearn.model_selection import train_test_split\n",
        "X_train,X_test, y_train,y_test = train_test_split(df.cleanData,df.search_word, test_size = 0.2, stratify = df.search_word,random_state = 42)"
      ],
      "execution_count": null,
      "outputs": []
    },
    {
      "cell_type": "code",
      "metadata": {
        "id": "fJA4uEwLO78h"
      },
      "source": [
        "from keras.preprocessing.text import Tokenizer\n",
        "num_words = 10000 # this means 10000 unique words can be taken \n",
        "tokenizer=Tokenizer(num_words,lower=True)\n",
        "df_total = pd.concat([X_train, X_test], axis = 0)\n",
        "tokenizer.fit_on_texts(df_total)"
      ],
      "execution_count": null,
      "outputs": []
    },
    {
      "cell_type": "code",
      "metadata": {
        "colab": {
          "base_uri": "https://localhost:8080/"
        },
        "id": "K1nqe8UdPAGI",
        "outputId": "c397bd9b-12a8-4f32-831f-8d5a178fdd98"
      },
      "source": [
        "len(tokenizer.word_index)"
      ],
      "execution_count": null,
      "outputs": [
        {
          "output_type": "execute_result",
          "data": {
            "text/plain": [
              "3664"
            ]
          },
          "metadata": {},
          "execution_count": 38
        }
      ]
    },
    {
      "cell_type": "code",
      "metadata": {
        "colab": {
          "base_uri": "https://localhost:8080/"
        },
        "id": "_GXIWBivPB4e",
        "outputId": "ab239c80-de47-4833-e300-7e99918385ad"
      },
      "source": [
        "df.word_length.max()"
      ],
      "execution_count": null,
      "outputs": [
        {
          "output_type": "execute_result",
          "data": {
            "text/plain": [
              "28"
            ]
          },
          "metadata": {},
          "execution_count": 39
        }
      ]
    },
    {
      "cell_type": "code",
      "metadata": {
        "id": "ymcAMhb1PDv1"
      },
      "source": [
        "from keras.preprocessing.sequence import pad_sequences\n",
        "\n",
        "X_train_ =tokenizer.texts_to_sequences(X_train)\n",
        "X_train_pad=pad_sequences(X_train_,maxlen=171,padding='post')\n",
        "X_test_ = tokenizer.texts_to_sequences(X_test)\n",
        "X_test_pad = pad_sequences(X_test_, maxlen = 171, padding = 'post')"
      ],
      "execution_count": null,
      "outputs": []
    },
    {
      "cell_type": "code",
      "metadata": {
        "colab": {
          "base_uri": "https://localhost:8080/"
        },
        "id": "QS3alF7XPE_W",
        "outputId": "6a4936a5-7f46-48a9-ce4b-9b8535adef37"
      },
      "source": [
        "print(X_train_pad.shape,X_test_pad.shape)"
      ],
      "execution_count": null,
      "outputs": [
        {
          "output_type": "stream",
          "name": "stdout",
          "text": [
            "(1969, 171) (493, 171)\n"
          ]
        }
      ]
    },
    {
      "cell_type": "code",
      "metadata": {
        "colab": {
          "base_uri": "https://localhost:8080/"
        },
        "id": "KXgcK7FRPI5y",
        "outputId": "02841617-bbeb-4f79-944b-0b34e1cd5574"
      },
      "source": [
        "import gensim.downloader as api\n",
        "glove_gensim  = api.load('glove-wiki-gigaword-300')"
      ],
      "execution_count": null,
      "outputs": [
        {
          "output_type": "stream",
          "name": "stdout",
          "text": [
            "[==================================================] 100.0% 376.1/376.1MB downloaded\n"
          ]
        }
      ]
    },
    {
      "cell_type": "code",
      "metadata": {
        "colab": {
          "base_uri": "https://localhost:8080/"
        },
        "id": "4ViLM4eAPXJe",
        "outputId": "01f28a65-bf84-475d-9dd0-f94e31ac6438"
      },
      "source": [
        "glove_gensim['cat'].shape[0]"
      ],
      "execution_count": null,
      "outputs": [
        {
          "output_type": "execute_result",
          "data": {
            "text/plain": [
              "300"
            ]
          },
          "metadata": {},
          "execution_count": 42
        }
      ]
    },
    {
      "cell_type": "code",
      "metadata": {
        "id": "A0BRkRJIPZve"
      },
      "source": [
        "vector_size = 300\n",
        "gensim_weight_matrix = np.zeros((num_words ,vector_size))\n",
        "gensim_weight_matrix.shape\n",
        "\n",
        "for word, index in tokenizer.word_index.items():\n",
        "    if index < num_words: # since index starts with zero \n",
        "        if word in glove_gensim.vocab:\n",
        "            gensim_weight_matrix[index] = glove_gensim[word]\n",
        "        else:\n",
        "            gensim_weight_matrix[index] = np.zeros(300)"
      ],
      "execution_count": null,
      "outputs": []
    },
    {
      "cell_type": "code",
      "metadata": {
        "colab": {
          "base_uri": "https://localhost:8080/"
        },
        "id": "IMh4ZzuTPcxf",
        "outputId": "0801b12c-8a05-4bae-be58-57f78209b1e7"
      },
      "source": [
        "print(gensim_weight_matrix.shape)\n",
        "from tensorflow.keras.layers import Dense, LSTM, Embedding,Bidirectional,GRU\n",
        "import tensorflow\n",
        "from keras.models import Sequential\n",
        "from tensorflow.compat.v1.keras.layers import CuDNNLSTM,CuDNNGRU\n",
        "from tensorflow.keras.layers import Dropout"
      ],
      "execution_count": null,
      "outputs": [
        {
          "output_type": "stream",
          "name": "stdout",
          "text": [
            "(10000, 300)\n"
          ]
        }
      ]
    },
    {
      "cell_type": "code",
      "metadata": {
        "id": "mq1M2FRNPdW0"
      },
      "source": [
        "\n",
        "EMBEDDING_DIM = 300 # this means the embedding layer will create  a vector in 100 dimension\n",
        "model_gensim = Sequential()\n",
        "model_gensim.add(Embedding(input_dim = num_words,# the whole vocabulary size \n",
        "                          output_dim = EMBEDDING_DIM, # vector space dimension\n",
        "                          input_length= X_train_pad.shape[1], # max_len of text sequence\n",
        "                          weights = [gensim_weight_matrix],trainable = False))\n",
        "model_gensim.add(Dropout(0.2))\n",
        "model_gensim.add(Bidirectional(GRU(300,return_sequences=True)))\n",
        "model_gensim.add(Dropout(0.2))\n",
        "model_gensim.add(Bidirectional(GRU(400,return_sequences=True)))\n",
        "model_gensim.add(Dropout(0.2))\n",
        "model_gensim.add(Bidirectional(GRU(400,return_sequences=True)))\n",
        "model_gensim.add(Dropout(0.2))\n",
        "model_gensim.add(Bidirectional(GRU(300,return_sequences=False)))\n",
        "model_gensim.add(Dense(3, activation = 'softmax'))\n",
        "model_gensim.compile(loss = 'sparse_categorical_crossentropy', optimizer = 'adam',metrics =['accuracy'])"
      ],
      "execution_count": null,
      "outputs": []
    },
    {
      "cell_type": "code",
      "metadata": {
        "colab": {
          "base_uri": "https://localhost:8080/"
        },
        "id": "Ijw43OVbPmVa",
        "outputId": "f75b3ffe-a90f-46e0-8097-0ff5c173087c"
      },
      "source": [
        "model_gensim.summary()"
      ],
      "execution_count": null,
      "outputs": [
        {
          "output_type": "stream",
          "name": "stdout",
          "text": [
            "Model: \"sequential_4\"\n",
            "_________________________________________________________________\n",
            " Layer (type)                Output Shape              Param #   \n",
            "=================================================================\n",
            " embedding_4 (Embedding)     (None, 171, 300)          3000000   \n",
            "                                                                 \n",
            " dropout_13 (Dropout)        (None, 171, 300)          0         \n",
            "                                                                 \n",
            " bidirectional_8 (Bidirectio  (None, 171, 600)         1083600   \n",
            " nal)                                                            \n",
            "                                                                 \n",
            " dropout_14 (Dropout)        (None, 171, 600)          0         \n",
            "                                                                 \n",
            " bidirectional_9 (Bidirectio  (None, 171, 800)         2404800   \n",
            " nal)                                                            \n",
            "                                                                 \n",
            " dropout_15 (Dropout)        (None, 171, 800)          0         \n",
            "                                                                 \n",
            " bidirectional_10 (Bidirecti  (None, 171, 800)         2884800   \n",
            " onal)                                                           \n",
            "                                                                 \n",
            " dropout_16 (Dropout)        (None, 171, 800)          0         \n",
            "                                                                 \n",
            " bidirectional_11 (Bidirecti  (None, 600)              1983600   \n",
            " onal)                                                           \n",
            "                                                                 \n",
            " dense_3 (Dense)             (None, 3)                 1803      \n",
            "                                                                 \n",
            "=================================================================\n",
            "Total params: 11,358,603\n",
            "Trainable params: 8,358,603\n",
            "Non-trainable params: 3,000,000\n",
            "_________________________________________________________________\n"
          ]
        }
      ]
    },
    {
      "cell_type": "code",
      "metadata": {
        "id": "b0iexeZePm2_"
      },
      "source": [
        "from keras.callbacks import EarlyStopping, ModelCheckpoint\n",
        "\n",
        "es = EarlyStopping(monitor = 'val_loss', mode = 'min', verbose = 1, patience = 8)\n",
        "mc = ModelCheckpoint('./model_gensim.h5', monitor = 'val_accuracy', mode = 'max', verbose = 1, save_best_only = True)"
      ],
      "execution_count": null,
      "outputs": []
    },
    {
      "cell_type": "code",
      "metadata": {
        "colab": {
          "base_uri": "https://localhost:8080/"
        },
        "id": "fJ4BkGn_K9TU",
        "outputId": "7aa2c8c9-82d9-4e96-acd1-d0ba09a7c11e"
      },
      "source": [
        "history_gensim = model_gensim.fit(X_train_pad,y_train, epochs = 60, batch_size = 200, validation_data=(X_test_pad, y_test),verbose = 1, callbacks= [es, mc])"
      ],
      "execution_count": null,
      "outputs": [
        {
          "output_type": "stream",
          "name": "stdout",
          "text": [
            "Epoch 1/60\n",
            "10/10 [==============================] - ETA: 0s - loss: 0.4357 - accuracy: 0.8202\n",
            "Epoch 00001: val_accuracy improved from -inf to 0.91684, saving model to ./model_gensim.h5\n",
            "10/10 [==============================] - 34s 2s/step - loss: 0.4357 - accuracy: 0.8202 - val_loss: 0.2975 - val_accuracy: 0.9168\n",
            "Epoch 2/60\n",
            "10/10 [==============================] - ETA: 0s - loss: 0.2026 - accuracy: 0.9401\n",
            "Epoch 00002: val_accuracy improved from 0.91684 to 0.94523, saving model to ./model_gensim.h5\n",
            "10/10 [==============================] - 17s 2s/step - loss: 0.2026 - accuracy: 0.9401 - val_loss: 0.2252 - val_accuracy: 0.9452\n",
            "Epoch 3/60\n",
            "10/10 [==============================] - ETA: 0s - loss: 0.1260 - accuracy: 0.9584\n",
            "Epoch 00003: val_accuracy did not improve from 0.94523\n",
            "10/10 [==============================] - 17s 2s/step - loss: 0.1260 - accuracy: 0.9584 - val_loss: 0.2397 - val_accuracy: 0.9412\n",
            "Epoch 4/60\n",
            "10/10 [==============================] - ETA: 0s - loss: 0.0903 - accuracy: 0.9695\n",
            "Epoch 00004: val_accuracy improved from 0.94523 to 0.95132, saving model to ./model_gensim.h5\n",
            "10/10 [==============================] - 17s 2s/step - loss: 0.0903 - accuracy: 0.9695 - val_loss: 0.2182 - val_accuracy: 0.9513\n",
            "Epoch 5/60\n",
            "10/10 [==============================] - ETA: 0s - loss: 0.0768 - accuracy: 0.9726\n",
            "Epoch 00005: val_accuracy did not improve from 0.95132\n",
            "10/10 [==============================] - 16s 2s/step - loss: 0.0768 - accuracy: 0.9726 - val_loss: 0.2281 - val_accuracy: 0.9452\n",
            "Epoch 6/60\n",
            "10/10 [==============================] - ETA: 0s - loss: 0.0523 - accuracy: 0.9827\n",
            "Epoch 00006: val_accuracy improved from 0.95132 to 0.95335, saving model to ./model_gensim.h5\n",
            "10/10 [==============================] - 17s 2s/step - loss: 0.0523 - accuracy: 0.9827 - val_loss: 0.2285 - val_accuracy: 0.9533\n",
            "Epoch 7/60\n",
            "10/10 [==============================] - ETA: 0s - loss: 0.0578 - accuracy: 0.9807\n",
            "Epoch 00007: val_accuracy did not improve from 0.95335\n",
            "10/10 [==============================] - 16s 2s/step - loss: 0.0578 - accuracy: 0.9807 - val_loss: 0.2509 - val_accuracy: 0.9473\n",
            "Epoch 8/60\n",
            "10/10 [==============================] - ETA: 0s - loss: 0.0352 - accuracy: 0.9878\n",
            "Epoch 00008: val_accuracy did not improve from 0.95335\n",
            "10/10 [==============================] - 16s 2s/step - loss: 0.0352 - accuracy: 0.9878 - val_loss: 0.2530 - val_accuracy: 0.9533\n",
            "Epoch 9/60\n",
            "10/10 [==============================] - ETA: 0s - loss: 0.0357 - accuracy: 0.9888\n",
            "Epoch 00009: val_accuracy did not improve from 0.95335\n",
            "10/10 [==============================] - 16s 2s/step - loss: 0.0357 - accuracy: 0.9888 - val_loss: 0.2435 - val_accuracy: 0.9533\n",
            "Epoch 10/60\n",
            "10/10 [==============================] - ETA: 0s - loss: 0.0267 - accuracy: 0.9904\n",
            "Epoch 00010: val_accuracy improved from 0.95335 to 0.95740, saving model to ./model_gensim.h5\n",
            "10/10 [==============================] - 17s 2s/step - loss: 0.0267 - accuracy: 0.9904 - val_loss: 0.2337 - val_accuracy: 0.9574\n",
            "Epoch 11/60\n",
            "10/10 [==============================] - ETA: 0s - loss: 0.0235 - accuracy: 0.9909\n",
            "Epoch 00011: val_accuracy did not improve from 0.95740\n",
            "10/10 [==============================] - 16s 2s/step - loss: 0.0235 - accuracy: 0.9909 - val_loss: 0.2834 - val_accuracy: 0.9533\n",
            "Epoch 12/60\n",
            "10/10 [==============================] - ETA: 0s - loss: 0.0241 - accuracy: 0.9914\n",
            "Epoch 00012: val_accuracy did not improve from 0.95740\n",
            "10/10 [==============================] - 16s 2s/step - loss: 0.0241 - accuracy: 0.9914 - val_loss: 0.3116 - val_accuracy: 0.9493\n",
            "Epoch 00012: early stopping\n"
          ]
        }
      ]
    },
    {
      "cell_type": "code",
      "metadata": {
        "colab": {
          "base_uri": "https://localhost:8080/"
        },
        "id": "672CTyRxP6kJ",
        "outputId": "7a7c4117-5ba7-4c91-bda9-08c7c21c161c"
      },
      "source": [
        "model_gensim.evaluate(X_test_pad, y_test) "
      ],
      "execution_count": null,
      "outputs": [
        {
          "output_type": "stream",
          "name": "stdout",
          "text": [
            "16/16 [==============================] - 3s 194ms/step - loss: 0.3116 - accuracy: 0.9493\n"
          ]
        },
        {
          "output_type": "execute_result",
          "data": {
            "text/plain": [
              "[0.31164538860321045, 0.9492900371551514]"
            ]
          },
          "metadata": {},
          "execution_count": 49
        }
      ]
    },
    {
      "cell_type": "code",
      "metadata": {
        "id": "3jhF8gaoP7XN"
      },
      "source": [
        "import seaborn as sns\n",
        "import matplotlib.pyplot as plt"
      ],
      "execution_count": null,
      "outputs": []
    },
    {
      "cell_type": "code",
      "metadata": {
        "colab": {
          "base_uri": "https://localhost:8080/",
          "height": 265
        },
        "id": "b02FMKC3PtAW",
        "outputId": "59b91e21-b707-486e-f9cf-a11964a65f35"
      },
      "source": [
        "plt.plot(history_gensim.history['accuracy'],c='b',label='train accuracy')\n",
        "plt.plot(history_gensim.history['val_accuracy'],c='r',label='validation accuracy')\n",
        "plt.legend(loc='lower right')\n",
        "plt.show()"
      ],
      "execution_count": null,
      "outputs": [
        {
          "output_type": "display_data",
          "data": {
            "image/png": "[encoded data removed]",
            "text/plain": [
              "<Figure size 432x288 with 1 Axes>"
            ]
          },
          "metadata": {
            "needs_background": "light"
          }
        }
      ]
    },
    {
      "cell_type": "code",
      "metadata": {
        "colab": {
          "base_uri": "https://localhost:8080/",
          "height": 265
        },
        "id": "meGoZiHxSQCJ",
        "outputId": "b0b534ec-ddb9-428c-aee8-69c29ed2d21f"
      },
      "source": [
        "plt.plot(history_gensim.history['loss'],c='b',label='train loss')\n",
        "plt.plot(history_gensim.history['val_loss'],c='r',label='validation loss')\n",
        "plt.legend(loc='lower right')\n",
        "plt.show()"
      ],
      "execution_count": null,
      "outputs": [
        {
          "output_type": "display_data",
          "data": {
            "image/png": "[encoded data removed]",
            "text/plain": [
              "<Figure size 432x288 with 1 Axes>"
            ]
          },
          "metadata": {
            "needs_background": "light"
          }
        }
      ]
    },
    {
      "cell_type": "code",
      "metadata": {
        "colab": {
          "base_uri": "https://localhost:8080/"
        },
        "id": "84PnAP8uHlXx",
        "outputId": "7702de14-3151-4a11-b333-d06bd0980072"
      },
      "source": [
        "new_complaint = ['There is too much traffic on road which has caused jam from sector 32 to sector 36']\n",
        "seq = tokenizer.texts_to_sequences(new_complaint)\n",
        "padded = pad_sequences(seq, maxlen=171,padding='post')\n",
        "pred = model_gensim.predict(padded)\n",
        "labels = ['Accident','Traffic','Potholes']\n",
        "print(pred, labels[np.argmax(pred)])"
      ],
      "execution_count": null,
      "outputs": [
        {
          "output_type": "stream",
          "name": "stdout",
          "text": [
            "[[1.6940332e-05 9.9998271e-01 3.2241144e-07]] Traffic\n"
          ]
        }
      ]
    },
    {
      "cell_type": "code",
      "metadata": {
        "colab": {
          "base_uri": "https://localhost:8080/"
        },
        "id": "zsUiiWYrTQce",
        "outputId": "48462971-cce2-4674-f760-3185d38fc130"
      },
      "source": [
        "from sklearn.metrics import classification_report\n",
        "\n",
        "y_pred=model_gensim.predict(X_test_pad)\n",
        "predicted = np.argmax(y_pred, axis=1)\n",
        "report = classification_report(y_test, predicted)\n",
        "print(report)\n"
      ],
      "execution_count": null,
      "outputs": [
        {
          "output_type": "stream",
          "name": "stdout",
          "text": [
            "              precision    recall  f1-score   support\n",
            "\n",
            "           0       0.87      0.79      0.83        66\n",
            "           1       0.96      0.99      0.97       418\n",
            "           2       1.00      0.44      0.62         9\n",
            "\n",
            "    accuracy                           0.95       493\n",
            "   macro avg       0.94      0.74      0.80       493\n",
            "weighted avg       0.95      0.95      0.95       493\n",
            "\n"
          ]
        }
      ]
    }
  ]
}