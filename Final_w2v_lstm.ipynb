{
  "nbformat": 4,
  "nbformat_minor": 0,
  "metadata": {
    "colab": {
      "name": "Final_w2v_lstm.ipynb",
      "provenance": [],
      "collapsed_sections": []
    },
    "kernelspec": {
      "name": "python3",
      "display_name": "Python 3"
    },
    "language_info": {
      "name": "python"
    },
    "accelerator": "GPU"
  },
  "cells": [
    {
      "cell_type": "code",
      "metadata": {
        "id": "UJwnCyDZOo0x"
      },
      "source": [
        "\n",
        "import pandas as pd\n",
        "import numpy as np\n",
        "df=pd.read_csv(\"/content/FINAL_DATA2.csv\")\n",
        "df.cleanData=df.cleanData.astype(str)"
      ],
      "execution_count": null,
      "outputs": []
    },
    {
      "cell_type": "code",
      "metadata": {
        "id": "CnZxGAIfO2f2",
        "colab": {
          "base_uri": "https://localhost:8080/"
        },
        "outputId": "476ccde6-b2ae-4f8f-cf3c-75262863eccf"
      },
      "source": [
        "#df['word_length'] = df['cleanData'].apply(lambda x:len(x.split()))\n",
        "df.dtypes"
      ],
      "execution_count": null,
      "outputs": [
        {
          "output_type": "execute_result",
          "data": {
            "text/plain": [
              "twitter_id             int64\n",
              "content               object\n",
              "location              object\n",
              "search_word            int64\n",
              "word_length            int64\n",
              "cleanData             object\n",
              "location_extracted    object\n",
              "dtype: object"
            ]
          },
          "metadata": {},
          "execution_count": 2
        }
      ]
    },
    {
      "cell_type": "code",
      "metadata": {
        "id": "aGZF26HYO4sv"
      },
      "source": [
        "from sklearn.model_selection import train_test_split\n",
        "X_train,X_test, y_train,y_test = train_test_split(df.cleanData,df.search_word, test_size = 0.2, stratify = df.search_word,random_state = 30)"
      ],
      "execution_count": null,
      "outputs": []
    },
    {
      "cell_type": "code",
      "metadata": {
        "id": "fJA4uEwLO78h"
      },
      "source": [
        "from keras.preprocessing.text import Tokenizer\n",
        "num_words = 10000 # this means 10000 unique words can be taken \n",
        "tokenizer=Tokenizer(num_words,lower=True)\n",
        "df_total = pd.concat([X_train, X_test], axis = 0)\n",
        "tokenizer.fit_on_texts(df_total)"
      ],
      "execution_count": null,
      "outputs": []
    },
    {
      "cell_type": "code",
      "source": [
        "df_total"
      ],
      "metadata": {
        "colab": {
          "base_uri": "https://localhost:8080/"
        },
        "id": "2QTfNRoTCbyb",
        "outputId": "0d5283e6-6e47-4ef9-f7d3-f8fff330e920"
      },
      "execution_count": null,
      "outputs": [
        {
          "output_type": "execute_result",
          "data": {
            "text/plain": [
              "1168                       hindu religious tradition dest\n",
              "2250                       injure mumbai slum house crash\n",
              "858                                       thank keep safe\n",
              "2390                                         singh victor\n",
              "1505    today chandigarhtrafficpolice conduct covid am...\n",
              "                              ...                        \n",
              "409     two day birthday panchkula major anuj rajput d...\n",
              "2345    makeroadssafe not government responsibility ev...\n",
              "678     free amp quality healthcare medicine test oper...\n",
              "294                                    sir thank feedback\n",
              "1014    happy birthday city beautiful chandigarh good ...\n",
              "Name: cleanData, Length: 2462, dtype: object"
            ]
          },
          "metadata": {},
          "execution_count": 33
        }
      ]
    },
    {
      "cell_type": "code",
      "metadata": {
        "colab": {
          "base_uri": "https://localhost:8080/"
        },
        "id": "K1nqe8UdPAGI",
        "outputId": "7d37f009-77e2-48b5-f176-7a9db3861481"
      },
      "source": [
        "len(tokenizer.word_index)"
      ],
      "execution_count": null,
      "outputs": [
        {
          "output_type": "execute_result",
          "data": {
            "text/plain": [
              "3664"
            ]
          },
          "metadata": {},
          "execution_count": 5
        }
      ]
    },
    {
      "cell_type": "code",
      "metadata": {
        "colab": {
          "base_uri": "https://localhost:8080/"
        },
        "id": "_GXIWBivPB4e",
        "outputId": "c74ea5c3-5395-4c70-844b-e0867c445434"
      },
      "source": [
        "df.word_length.max()"
      ],
      "execution_count": null,
      "outputs": [
        {
          "output_type": "execute_result",
          "data": {
            "text/plain": [
              "28"
            ]
          },
          "metadata": {},
          "execution_count": 6
        }
      ]
    },
    {
      "cell_type": "code",
      "metadata": {
        "id": "ymcAMhb1PDv1"
      },
      "source": [
        "from keras.preprocessing.sequence import pad_sequences\n",
        "\n",
        "X_train_ =tokenizer.texts_to_sequences(X_train)\n",
        "X_train_pad=pad_sequences(X_train_,maxlen=171,padding='post')\n",
        "X_test_ = tokenizer.texts_to_sequences(X_test)\n",
        "X_test_pad = pad_sequences(X_test_, maxlen = 171, padding = 'post')"
      ],
      "execution_count": null,
      "outputs": []
    },
    {
      "cell_type": "code",
      "metadata": {
        "colab": {
          "base_uri": "https://localhost:8080/"
        },
        "id": "QS3alF7XPE_W",
        "outputId": "9de28638-3a68-4a15-d443-d537bd9ef83d"
      },
      "source": [
        "print(X_train_pad.shape,X_test_pad.shape)"
      ],
      "execution_count": null,
      "outputs": [
        {
          "output_type": "stream",
          "name": "stdout",
          "text": [
            "(1969, 171) (493, 171)\n"
          ]
        }
      ]
    },
    {
      "cell_type": "code",
      "metadata": {
        "colab": {
          "base_uri": "https://localhost:8080/"
        },
        "id": "KXgcK7FRPI5y",
        "outputId": "07bc84c8-3b9c-42ab-be19-8e9584220fff"
      },
      "source": [
        "import gensim.downloader as api\n",
        "w2v_gensim  = api.load('word2vec-google-news-300')"
      ],
      "execution_count": null,
      "outputs": [
        {
          "output_type": "stream",
          "name": "stdout",
          "text": [
            "[==================================================] 100.0% 1662.8/1662.8MB downloaded\n"
          ]
        }
      ]
    },
    {
      "cell_type": "code",
      "source": [
        "vocabulary = list(w2v_gensim.wv.vocab)\n",
        "print(vocabulary)"
      ],
      "metadata": {
        "colab": {
          "base_uri": "https://localhost:8080/"
        },
        "id": "lpAXX2NKFTqx",
        "outputId": "3da3c94e-3b5f-41b2-a6d2-29be4032f2df"
      },
      "execution_count": null,
      "outputs": [
        {
          "output_type": "stream",
          "name": "stderr",
          "text": [
            "IOPub data rate exceeded.\n",
            "The notebook server will temporarily stop sending output\n",
            "to the client in order to avoid crashing it.\n",
            "To change this limit, set the config variable\n",
            "`--NotebookApp.iopub_data_rate_limit`.\n",
            "\n",
            "Current values:\n",
            "NotebookApp.iopub_data_rate_limit=1000000.0 (bytes/sec)\n",
            "NotebookApp.rate_limit_window=3.0 (secs)\n",
            "\n",
            "/usr/local/lib/python3.7/dist-packages/ipykernel_launcher.py:1: DeprecationWarning: Call to deprecated `wv` (Attribute will be removed in 4.0.0, use self instead).\n",
            "  \"\"\"Entry point for launching an IPython kernel.\n"
          ]
        }
      ]
    },
    {
      "cell_type": "code",
      "metadata": {
        "id": "A0BRkRJIPZve"
      },
      "source": [
        "vector_size = 300\n",
        "gensim_weight_matrix = np.zeros((num_words ,vector_size))\n",
        "gensim_weight_matrix.shape\n",
        "\n",
        "for word, index in tokenizer.word_index.items():\n",
        "    if index < num_words: # since index starts with zero \n",
        "        if word in w2v_gensim.vocab:\n",
        "            gensim_weight_matrix[index] = w2v_gensim[word]\n",
        "        else:\n",
        "            gensim_weight_matrix[index] = np.zeros(300)"
      ],
      "execution_count": null,
      "outputs": []
    },
    {
      "cell_type": "code",
      "source": [
        "gensim_weight_matrix"
      ],
      "metadata": {
        "colab": {
          "base_uri": "https://localhost:8080/"
        },
        "id": "NLODVcqEPADg",
        "outputId": "9c6cce39-7537-4f76-8f0a-68efd0ff1cb0"
      },
      "execution_count": null,
      "outputs": [
        {
          "output_type": "execute_result",
          "data": {
            "text/plain": [
              "array([[ 0.        ,  0.        ,  0.        , ...,  0.        ,\n",
              "         0.        ,  0.        ],\n",
              "       [ 0.08349609,  0.04541016,  0.25      , ..., -0.17773438,\n",
              "        -0.16113281, -0.01104736],\n",
              "       [-0.24707031, -0.16015625, -0.06347656, ...,  0.0859375 ,\n",
              "        -0.1640625 , -0.04101562],\n",
              "       ...,\n",
              "       [ 0.        ,  0.        ,  0.        , ...,  0.        ,\n",
              "         0.        ,  0.        ],\n",
              "       [ 0.        ,  0.        ,  0.        , ...,  0.        ,\n",
              "         0.        ,  0.        ],\n",
              "       [ 0.        ,  0.        ,  0.        , ...,  0.        ,\n",
              "         0.        ,  0.        ]])"
            ]
          },
          "metadata": {},
          "execution_count": 47
        }
      ]
    },
    {
      "cell_type": "code",
      "metadata": {
        "id": "IMh4ZzuTPcxf",
        "colab": {
          "base_uri": "https://localhost:8080/"
        },
        "outputId": "1e673f9c-ff50-4474-884a-0e0257558dd0"
      },
      "source": [
        "print(gensim_weight_matrix.shape)\n",
        "from tensorflow.keras.layers import Dense, LSTM, Embedding,Bidirectional\n",
        "import tensorflow\n",
        "from keras.models import Sequential\n",
        "from tensorflow.compat.v1.keras.layers import CuDNNLSTM,CuDNNGRU\n",
        "from tensorflow.keras.layers import Dropout"
      ],
      "execution_count": null,
      "outputs": [
        {
          "output_type": "stream",
          "name": "stdout",
          "text": [
            "(10000, 300)\n"
          ]
        }
      ]
    },
    {
      "cell_type": "code",
      "metadata": {
        "id": "mq1M2FRNPdW0"
      },
      "source": [
        "EMBEDDING_DIM = 300 # this means the embedding layer will create  a vector in 100 dimension\n",
        "model_gensim = Sequential()\n",
        "model_gensim.add(Embedding(input_dim = num_words,# the whole vocabulary size \n",
        "                          output_dim = EMBEDDING_DIM, # vector space dimension\n",
        "                          input_length= X_train_pad.shape[1], # max_len of text sequence\n",
        "                          weights = [gensim_weight_matrix],trainable = False))\n",
        "model_gensim.add(Dropout(0.2))\n",
        "model_gensim.add(Bidirectional(CuDNNLSTM(300,return_sequences=True)))\n",
        "model_gensim.add(Dropout(0.2))\n",
        "model_gensim.add(Bidirectional(CuDNNLSTM(400,return_sequences=True)))\n",
        "model_gensim.add(Dropout(0.2))\n",
        "model_gensim.add(Bidirectional(CuDNNLSTM(400,return_sequences=True)))\n",
        "model_gensim.add(Dropout(0.2))\n",
        "model_gensim.add(Bidirectional(CuDNNLSTM(300,return_sequences=False)))\n",
        "model_gensim.add(Dense(3, activation = 'softmax'))\n",
        "model_gensim.compile(loss = 'sparse_categorical_crossentropy', optimizer = 'adam',metrics = 'accuracy')"
      ],
      "execution_count": null,
      "outputs": []
    },
    {
      "cell_type": "code",
      "metadata": {
        "colab": {
          "base_uri": "https://localhost:8080/"
        },
        "id": "Ijw43OVbPmVa",
        "outputId": "e84c7894-ce4c-4d56-e195-7bd8aeb1a03a"
      },
      "source": [
        "model_gensim.summary()"
      ],
      "execution_count": null,
      "outputs": [
        {
          "output_type": "stream",
          "name": "stdout",
          "text": [
            "Model: \"sequential\"\n",
            "_________________________________________________________________\n",
            " Layer (type)                Output Shape              Param #   \n",
            "=================================================================\n",
            " embedding (Embedding)       (None, 171, 300)          3000000   \n",
            "                                                                 \n",
            " dropout (Dropout)           (None, 171, 300)          0         \n",
            "                                                                 \n",
            " bidirectional (Bidirectiona  (None, 171, 600)         1444800   \n",
            " l)                                                              \n",
            "                                                                 \n",
            " dropout_1 (Dropout)         (None, 171, 600)          0         \n",
            "                                                                 \n",
            " bidirectional_1 (Bidirectio  (None, 171, 800)         3206400   \n",
            " nal)                                                            \n",
            "                                                                 \n",
            " dropout_2 (Dropout)         (None, 171, 800)          0         \n",
            "                                                                 \n",
            " bidirectional_2 (Bidirectio  (None, 171, 800)         3846400   \n",
            " nal)                                                            \n",
            "                                                                 \n",
            " dropout_3 (Dropout)         (None, 171, 800)          0         \n",
            "                                                                 \n",
            " bidirectional_3 (Bidirectio  (None, 600)              2644800   \n",
            " nal)                                                            \n",
            "                                                                 \n",
            " dense (Dense)               (None, 3)                 1803      \n",
            "                                                                 \n",
            "=================================================================\n",
            "Total params: 14,144,203\n",
            "Trainable params: 11,144,203\n",
            "Non-trainable params: 3,000,000\n",
            "_________________________________________________________________\n"
          ]
        }
      ]
    },
    {
      "cell_type": "code",
      "metadata": {
        "id": "b0iexeZePm2_"
      },
      "source": [
        "from keras.callbacks import EarlyStopping, ModelCheckpoint\n",
        "\n",
        "\n",
        "es = EarlyStopping(monitor = 'val_loss', mode = 'min', verbose = 1, patience = 8)\n",
        "mc = ModelCheckpoint('./model_gensim.h5', monitor = 'val_accuracy', mode = 'max', verbose = 1, save_best_only = True)"
      ],
      "execution_count": null,
      "outputs": []
    },
    {
      "cell_type": "code",
      "metadata": {
        "colab": {
          "base_uri": "https://localhost:8080/"
        },
        "id": "fJ4BkGn_K9TU",
        "outputId": "6f11baff-0d66-4690-f05f-6f8a25acda90"
      },
      "source": [
        "history_gensim = model_gensim.fit(X_train_pad,y_train, epochs = 60, batch_size = 200, validation_data=(X_test_pad, y_test),verbose = 1, callbacks= [es, mc]  )"
      ],
      "execution_count": null,
      "outputs": [
        {
          "output_type": "stream",
          "name": "stdout",
          "text": [
            "Epoch 1/60\n",
            "10/10 [==============================] - ETA: 0s - loss: 0.5809 - accuracy: 0.8141\n",
            "Epoch 00001: val_accuracy improved from -inf to 0.92292, saving model to ./model_gensim.h5\n",
            "10/10 [==============================] - 33s 2s/step - loss: 0.5809 - accuracy: 0.8141 - val_loss: 0.2861 - val_accuracy: 0.9229\n",
            "Epoch 2/60\n",
            "10/10 [==============================] - ETA: 0s - loss: 0.2210 - accuracy: 0.9406\n",
            "Epoch 00002: val_accuracy improved from 0.92292 to 0.92901, saving model to ./model_gensim.h5\n",
            "10/10 [==============================] - 19s 2s/step - loss: 0.2210 - accuracy: 0.9406 - val_loss: 0.2475 - val_accuracy: 0.9290\n",
            "Epoch 3/60\n",
            "10/10 [==============================] - ETA: 0s - loss: 0.1845 - accuracy: 0.9401\n",
            "Epoch 00003: val_accuracy improved from 0.92901 to 0.94929, saving model to ./model_gensim.h5\n",
            "10/10 [==============================] - 19s 2s/step - loss: 0.1845 - accuracy: 0.9401 - val_loss: 0.2139 - val_accuracy: 0.9493\n",
            "Epoch 4/60\n",
            "10/10 [==============================] - ETA: 0s - loss: 0.1382 - accuracy: 0.9614\n",
            "Epoch 00004: val_accuracy did not improve from 0.94929\n",
            "10/10 [==============================] - 19s 2s/step - loss: 0.1382 - accuracy: 0.9614 - val_loss: 0.1756 - val_accuracy: 0.9493\n",
            "Epoch 5/60\n",
            "10/10 [==============================] - ETA: 0s - loss: 0.1128 - accuracy: 0.9711\n",
            "Epoch 00005: val_accuracy improved from 0.94929 to 0.95740, saving model to ./model_gensim.h5\n",
            "10/10 [==============================] - 20s 2s/step - loss: 0.1128 - accuracy: 0.9711 - val_loss: 0.1755 - val_accuracy: 0.9574\n",
            "Epoch 6/60\n",
            "10/10 [==============================] - ETA: 0s - loss: 0.0929 - accuracy: 0.9716\n",
            "Epoch 00006: val_accuracy did not improve from 0.95740\n",
            "10/10 [==============================] - 19s 2s/step - loss: 0.0929 - accuracy: 0.9716 - val_loss: 0.1594 - val_accuracy: 0.9554\n",
            "Epoch 7/60\n",
            "10/10 [==============================] - ETA: 0s - loss: 0.0815 - accuracy: 0.9756\n",
            "Epoch 00007: val_accuracy did not improve from 0.95740\n",
            "10/10 [==============================] - 19s 2s/step - loss: 0.0815 - accuracy: 0.9756 - val_loss: 0.1752 - val_accuracy: 0.9574\n",
            "Epoch 8/60\n",
            "10/10 [==============================] - ETA: 0s - loss: 0.0576 - accuracy: 0.9802\n",
            "Epoch 00008: val_accuracy did not improve from 0.95740\n",
            "10/10 [==============================] - 19s 2s/step - loss: 0.0576 - accuracy: 0.9802 - val_loss: 0.1881 - val_accuracy: 0.9574\n",
            "Epoch 9/60\n",
            "10/10 [==============================] - ETA: 0s - loss: 0.0523 - accuracy: 0.9863\n",
            "Epoch 00009: val_accuracy did not improve from 0.95740\n",
            "10/10 [==============================] - 19s 2s/step - loss: 0.0523 - accuracy: 0.9863 - val_loss: 0.2359 - val_accuracy: 0.9554\n",
            "Epoch 10/60\n",
            "10/10 [==============================] - ETA: 0s - loss: 0.0602 - accuracy: 0.9782\n",
            "Epoch 00010: val_accuracy did not improve from 0.95740\n",
            "10/10 [==============================] - 19s 2s/step - loss: 0.0602 - accuracy: 0.9782 - val_loss: 0.1774 - val_accuracy: 0.9554\n",
            "Epoch 11/60\n",
            "10/10 [==============================] - ETA: 0s - loss: 0.0487 - accuracy: 0.9863\n",
            "Epoch 00011: val_accuracy improved from 0.95740 to 0.95943, saving model to ./model_gensim.h5\n",
            "10/10 [==============================] - 20s 2s/step - loss: 0.0487 - accuracy: 0.9863 - val_loss: 0.1761 - val_accuracy: 0.9594\n",
            "Epoch 12/60\n",
            "10/10 [==============================] - ETA: 0s - loss: 0.0523 - accuracy: 0.9837\n",
            "Epoch 00012: val_accuracy did not improve from 0.95943\n",
            "10/10 [==============================] - 19s 2s/step - loss: 0.0523 - accuracy: 0.9837 - val_loss: 0.2187 - val_accuracy: 0.9473\n",
            "Epoch 13/60\n",
            "10/10 [==============================] - ETA: 0s - loss: 0.0463 - accuracy: 0.9822\n",
            "Epoch 00013: val_accuracy improved from 0.95943 to 0.96552, saving model to ./model_gensim.h5\n",
            "10/10 [==============================] - 20s 2s/step - loss: 0.0463 - accuracy: 0.9822 - val_loss: 0.1802 - val_accuracy: 0.9655\n",
            "Epoch 14/60\n",
            "10/10 [==============================] - ETA: 0s - loss: 0.0230 - accuracy: 0.9934\n",
            "Epoch 00014: val_accuracy did not improve from 0.96552\n",
            "10/10 [==============================] - 19s 2s/step - loss: 0.0230 - accuracy: 0.9934 - val_loss: 0.2135 - val_accuracy: 0.9615\n",
            "Epoch 00014: early stopping\n"
          ]
        }
      ]
    },
    {
      "cell_type": "code",
      "metadata": {
        "id": "672CTyRxP6kJ",
        "colab": {
          "base_uri": "https://localhost:8080/"
        },
        "outputId": "9cf624cb-78e6-4923-d0c2-94ede91adf89"
      },
      "source": [
        "model_gensim.evaluate(X_test_pad, y_test) "
      ],
      "execution_count": null,
      "outputs": [
        {
          "output_type": "stream",
          "name": "stdout",
          "text": [
            "16/16 [==============================] - 3s 205ms/step - loss: 0.2135 - accuracy: 0.9615\n"
          ]
        },
        {
          "output_type": "execute_result",
          "data": {
            "text/plain": [
              "[0.21348534524440765, 0.9614604711532593]"
            ]
          },
          "metadata": {},
          "execution_count": 46
        }
      ]
    },
    {
      "cell_type": "code",
      "metadata": {
        "id": "3jhF8gaoP7XN"
      },
      "source": [
        "import seaborn as sns\n",
        "import matplotlib.pyplot as plt"
      ],
      "execution_count": null,
      "outputs": []
    },
    {
      "cell_type": "code",
      "metadata": {
        "id": "b02FMKC3PtAW",
        "colab": {
          "base_uri": "https://localhost:8080/",
          "height": 267
        },
        "outputId": "c0cde231-81f8-48eb-92a9-f7b5130ec09a"
      },
      "source": [
        "plt.plot(history_gensim.history['accuracy'],c='b',label='train accuracy')\n",
        "plt.plot(history_gensim.history['val_accuracy'],c='r',label='validation accuracy')\n",
        "plt.legend(loc='lower right')\n",
        "plt.show()"
      ],
      "execution_count": null,
      "outputs": [
        {
          "output_type": "display_data",
          "data": {
            "image/png": "[encoded data removed]",
            "text/plain": [
              "<Figure size 432x288 with 1 Axes>"
            ]
          },
          "metadata": {
            "needs_background": "light"
          }
        }
      ]
    },
    {
      "cell_type": "code",
      "metadata": {
        "colab": {
          "base_uri": "https://localhost:8080/"
        },
        "id": "84PnAP8uHlXx",
        "outputId": "b94155b4-ecbc-456e-cdab-c7cd9f56ec81"
      },
      "source": [
        "new_complaint = ['There is too much traffic on road which has caused jam from sector 32 to sector 36']\n",
        "seq = tokenizer.texts_to_sequences(new_complaint)\n",
        "padded = pad_sequences(seq, maxlen=171,padding='post')\n",
        "pred = model_gensim.predict(padded)\n",
        "labels = ['Accident','Traffic','Potholes']\n",
        "print(pred, labels[np.argmax(pred)])"
      ],
      "execution_count": null,
      "outputs": [
        {
          "output_type": "stream",
          "name": "stdout",
          "text": [
            "[[2.9351457e-04 9.9969471e-01 1.1739855e-05]] Traffic\n"
          ]
        }
      ]
    },
    {
      "cell_type": "code",
      "source": [
        "from sklearn.metrics import classification_report\n",
        "\n",
        "y_pred=model_gensim.predict(X_test_pad)\n",
        "predicted = np.argmax(y_pred, axis=1)\n",
        "report = classification_report(y_test, predicted)\n",
        "print(report)"
      ],
      "metadata": {
        "colab": {
          "base_uri": "https://localhost:8080/"
        },
        "id": "Y08-m6ZARUOy",
        "outputId": "3bd2c407-1afd-4c7a-d74e-003bdfb7289c"
      },
      "execution_count": null,
      "outputs": [
        {
          "output_type": "stream",
          "name": "stdout",
          "text": [
            "              precision    recall  f1-score   support\n",
            "\n",
            "           0       0.95      0.82      0.88        66\n",
            "           1       0.97      0.99      0.98       418\n",
            "           2       0.83      0.56      0.67         9\n",
            "\n",
            "    accuracy                           0.96       493\n",
            "   macro avg       0.92      0.79      0.84       493\n",
            "weighted avg       0.96      0.96      0.96       493\n",
            "\n"
          ]
        }
      ]
    }
  ]
}