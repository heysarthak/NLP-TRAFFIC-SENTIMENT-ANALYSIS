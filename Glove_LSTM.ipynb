{
  "cells": [
    {
      "cell_type": "code",
      "execution_count": null,
      "metadata": {
        "id": "UJwnCyDZOo0x"
      },
      "outputs": [],
      "source": [
        "import pandas as pd\n",
        "import numpy as np\n",
        "df=pd.read_csv(\"/content/FINAL_DATA2.csv\")\n",
        "df.cleanData=df.cleanData.astype(str)"
      ]
    },
    {
      "cell_type": "code",
      "execution_count": null,
      "metadata": {
        "colab": {
          "base_uri": "https://localhost:8080/"
        },
        "id": "CnZxGAIfO2f2",
        "outputId": "a371a63e-6c05-4435-b0c2-5595cb1b446e"
      },
      "outputs": [
        {
          "output_type": "execute_result",
          "data": {
            "text/plain": [
              "twitter_id             int64\n",
              "content               object\n",
              "location              object\n",
              "search_word            int64\n",
              "word_length            int64\n",
              "cleanData             object\n",
              "location_extracted    object\n",
              "dtype: object"
            ]
          },
          "metadata": {},
          "execution_count": 4
        }
      ],
      "source": [
        "#df['word_length'] = df['cleanData'].apply(lambda x:len(x.split()))\n",
        "df.dtypes"
      ]
    },
    {
      "cell_type": "code",
      "execution_count": null,
      "metadata": {
        "id": "aGZF26HYO4sv"
      },
      "outputs": [],
      "source": [
        "from sklearn.model_selection import train_test_split\n",
        "X_train,X_test, y_train,y_test = train_test_split(df.cleanData,df.search_word, test_size = 0.2, stratify = df.search_word,random_state = 30)"
      ]
    },
    {
      "cell_type": "code",
      "execution_count": null,
      "metadata": {
        "id": "fJA4uEwLO78h"
      },
      "outputs": [],
      "source": [
        "from keras.preprocessing.text import Tokenizer\n",
        "num_words = 10000 # this means 10000 unique words can be taken \n",
        "tokenizer=Tokenizer(num_words,lower=True)\n",
        "df_total = pd.concat([X_train, X_test], axis = 0)\n",
        "tokenizer.fit_on_texts(df_total)"
      ]
    },
    {
      "cell_type": "code",
      "execution_count": null,
      "metadata": {
        "colab": {
          "base_uri": "https://localhost:8080/"
        },
        "id": "K1nqe8UdPAGI",
        "outputId": "00681d43-dbdc-4595-a419-f08e21627274"
      },
      "outputs": [
        {
          "output_type": "execute_result",
          "data": {
            "text/plain": [
              "3664"
            ]
          },
          "metadata": {},
          "execution_count": 7
        }
      ],
      "source": [
        "len(tokenizer.word_index)"
      ]
    },
    {
      "cell_type": "code",
      "execution_count": null,
      "metadata": {
        "colab": {
          "base_uri": "https://localhost:8080/"
        },
        "id": "_GXIWBivPB4e",
        "outputId": "cd55e526-1bdf-4b1f-8580-767dad55ec24"
      },
      "outputs": [
        {
          "output_type": "execute_result",
          "data": {
            "text/plain": [
              "28"
            ]
          },
          "metadata": {},
          "execution_count": 8
        }
      ],
      "source": [
        "df.word_length.max()"
      ]
    },
    {
      "cell_type": "code",
      "execution_count": null,
      "metadata": {
        "id": "ymcAMhb1PDv1"
      },
      "outputs": [],
      "source": [
        "from keras.preprocessing.sequence import pad_sequences\n",
        "\n",
        "X_train_ =tokenizer.texts_to_sequences(X_train)\n",
        "X_train_pad=pad_sequences(X_train_,maxlen=171,padding='post')\n",
        "X_test_ = tokenizer.texts_to_sequences(X_test)\n",
        "X_test_pad = pad_sequences(X_test_, maxlen = 171, padding = 'post')"
      ]
    },
    {
      "cell_type": "code",
      "execution_count": null,
      "metadata": {
        "colab": {
          "base_uri": "https://localhost:8080/"
        },
        "id": "QS3alF7XPE_W",
        "outputId": "0306984f-1986-42f3-d9f8-692b4311b59e"
      },
      "outputs": [
        {
          "output_type": "stream",
          "name": "stdout",
          "text": [
            "(1969, 171) (493, 171)\n"
          ]
        }
      ],
      "source": [
        "print(X_train_pad.shape,X_test_pad.shape)"
      ]
    },
    {
      "cell_type": "code",
      "execution_count": null,
      "metadata": {
        "colab": {
          "base_uri": "https://localhost:8080/"
        },
        "id": "KXgcK7FRPI5y",
        "outputId": "2956feb2-a55e-4fc6-9037-3333a95fe502"
      },
      "outputs": [
        {
          "output_type": "stream",
          "name": "stdout",
          "text": [
            "[==================================================] 100.0% 376.1/376.1MB downloaded\n"
          ]
        }
      ],
      "source": [
        "import gensim.downloader as api\n",
        "glove_gensim  = api.load('glove-wiki-gigaword-300')"
      ]
    },
    {
      "cell_type": "code",
      "execution_count": null,
      "metadata": {
        "colab": {
          "base_uri": "https://localhost:8080/"
        },
        "id": "4ViLM4eAPXJe",
        "outputId": "daa1d077-4e5b-4936-8d4f-5990150d016d"
      },
      "outputs": [
        {
          "output_type": "execute_result",
          "data": {
            "text/plain": [
              "300"
            ]
          },
          "metadata": {},
          "execution_count": 12
        }
      ],
      "source": [
        "glove_gensim['cat'].shape[0]"
      ]
    },
    {
      "cell_type": "code",
      "execution_count": null,
      "metadata": {
        "id": "A0BRkRJIPZve"
      },
      "outputs": [],
      "source": [
        "vector_size = 300\n",
        "gensim_weight_matrix = np.zeros((num_words ,vector_size))\n",
        "gensim_weight_matrix.shape\n",
        "\n",
        "for word, index in tokenizer.word_index.items():\n",
        "    if index < num_words: # since index starts with zero \n",
        "        if word in glove_gensim.vocab:\n",
        "            gensim_weight_matrix[index] = glove_gensim[word]\n",
        "        else:\n",
        "            gensim_weight_matrix[index] = np.zeros(300)"
      ]
    },
    {
      "cell_type": "code",
      "execution_count": null,
      "metadata": {
        "colab": {
          "base_uri": "https://localhost:8080/"
        },
        "id": "IMh4ZzuTPcxf",
        "outputId": "53e4c6f2-703b-4d2b-d519-dd71e001a7a9"
      },
      "outputs": [
        {
          "output_type": "stream",
          "name": "stdout",
          "text": [
            "(10000, 300)\n"
          ]
        }
      ],
      "source": [
        "print(gensim_weight_matrix.shape)\n",
        "from tensorflow.keras.layers import Dense, LSTM, Embedding,Bidirectional\n",
        "import tensorflow\n",
        "from keras.models import Sequential\n",
        "from tensorflow.compat.v1.keras.layers import CuDNNLSTM,CuDNNGRU\n",
        "from tensorflow.keras.layers import Dropout"
      ]
    },
    {
      "cell_type": "code",
      "execution_count": null,
      "metadata": {
        "id": "mq1M2FRNPdW0"
      },
      "outputs": [],
      "source": [
        "EMBEDDING_DIM = 300 # this means the embedding layer will create  a vector in 100 dimension\n",
        "model_gensim = Sequential()\n",
        "model_gensim.add(Embedding(input_dim = num_words,# the whole vocabulary size \n",
        "                          output_dim = EMBEDDING_DIM, # vector space dimension\n",
        "                          input_length= X_train_pad.shape[1], # max_len of text sequence\n",
        "                          weights = [gensim_weight_matrix],trainable = False))\n",
        "model_gensim.add(Dropout(0.2))\n",
        "model_gensim.add(Bidirectional(CuDNNLSTM(300,return_sequences=True)))\n",
        "model_gensim.add(Dropout(0.2))\n",
        "model_gensim.add(Bidirectional(CuDNNLSTM(400,return_sequences=True)))\n",
        "model_gensim.add(Dropout(0.2))\n",
        "model_gensim.add(Bidirectional(CuDNNLSTM(400,return_sequences=True)))\n",
        "model_gensim.add(Dropout(0.2))\n",
        "model_gensim.add(Bidirectional(CuDNNLSTM(300,return_sequences=False)))\n",
        "model_gensim.add(Dense(3, activation = 'softmax'))\n",
        "model_gensim.compile(loss = 'sparse_categorical_crossentropy', optimizer = 'adam',metrics = 'accuracy')"
      ]
    },
    {
      "cell_type": "code",
      "execution_count": null,
      "metadata": {
        "colab": {
          "base_uri": "https://localhost:8080/"
        },
        "id": "Ijw43OVbPmVa",
        "outputId": "92bc60f7-b76b-4bf5-badf-ba05039d0c8b"
      },
      "outputs": [
        {
          "output_type": "stream",
          "name": "stdout",
          "text": [
            "Model: \"sequential\"\n",
            "_________________________________________________________________\n",
            " Layer (type)                Output Shape              Param #   \n",
            "=================================================================\n",
            " embedding (Embedding)       (None, 171, 300)          3000000   \n",
            "                                                                 \n",
            " dropout (Dropout)           (None, 171, 300)          0         \n",
            "                                                                 \n",
            " bidirectional (Bidirectiona  (None, 171, 600)         1444800   \n",
            " l)                                                              \n",
            "                                                                 \n",
            " dropout_1 (Dropout)         (None, 171, 600)          0         \n",
            "                                                                 \n",
            " bidirectional_1 (Bidirectio  (None, 171, 800)         3206400   \n",
            " nal)                                                            \n",
            "                                                                 \n",
            " dropout_2 (Dropout)         (None, 171, 800)          0         \n",
            "                                                                 \n",
            " bidirectional_2 (Bidirectio  (None, 171, 800)         3846400   \n",
            " nal)                                                            \n",
            "                                                                 \n",
            " dropout_3 (Dropout)         (None, 171, 800)          0         \n",
            "                                                                 \n",
            " bidirectional_3 (Bidirectio  (None, 600)              2644800   \n",
            " nal)                                                            \n",
            "                                                                 \n",
            " dense (Dense)               (None, 3)                 1803      \n",
            "                                                                 \n",
            "=================================================================\n",
            "Total params: 14,144,203\n",
            "Trainable params: 11,144,203\n",
            "Non-trainable params: 3,000,000\n",
            "_________________________________________________________________\n"
          ]
        }
      ],
      "source": [
        "model_gensim.summary()"
      ]
    },
    {
      "cell_type": "code",
      "execution_count": null,
      "metadata": {
        "id": "b0iexeZePm2_"
      },
      "outputs": [],
      "source": [
        "from keras.callbacks import EarlyStopping, ModelCheckpoint\n",
        "from sklearn.metrics import roc_curve, auc\n",
        "\n",
        "\n",
        "roc= EarlyStopping(monitor='auc_roc', patience=300, verbose=1, mode='max')\n",
        "es = EarlyStopping(monitor = 'val_loss', mode = 'min', verbose = 1, patience = 8)\n",
        "mc = ModelCheckpoint('./model_gensim.h5', monitor = 'val_accuracy', mode = 'max', verbose = 1, save_best_only = True)"
      ]
    },
    {
      "cell_type": "code",
      "execution_count": null,
      "metadata": {
        "colab": {
          "base_uri": "https://localhost:8080/"
        },
        "id": "fJ4BkGn_K9TU",
        "outputId": "33ed148c-8ec9-4012-cb85-e328d2709661"
      },
      "outputs": [
        {
          "output_type": "stream",
          "name": "stdout",
          "text": [
            "Epoch 1/60\n",
            "10/10 [==============================] - ETA: 0s - loss: 0.5441 - accuracy: 0.8060\n",
            "Epoch 00001: val_accuracy improved from -inf to 0.93103, saving model to ./model_gensim.h5\n",
            "WARNING:tensorflow:Early stopping conditioned on metric `auc_roc` which is not available. Available metrics are: loss,accuracy,val_loss,val_accuracy\n",
            "10/10 [==============================] - 23s 1s/step - loss: 0.5441 - accuracy: 0.8060 - val_loss: 0.2891 - val_accuracy: 0.9310\n",
            "Epoch 2/60\n",
            "10/10 [==============================] - ETA: 0s - loss: 0.2245 - accuracy: 0.9350\n",
            "Epoch 00002: val_accuracy improved from 0.93103 to 0.94320, saving model to ./model_gensim.h5\n",
            "WARNING:tensorflow:Early stopping conditioned on metric `auc_roc` which is not available. Available metrics are: loss,accuracy,val_loss,val_accuracy\n",
            "10/10 [==============================] - 9s 911ms/step - loss: 0.2245 - accuracy: 0.9350 - val_loss: 0.1966 - val_accuracy: 0.9432\n",
            "Epoch 3/60\n",
            "10/10 [==============================] - ETA: 0s - loss: 0.1422 - accuracy: 0.9573\n",
            "Epoch 00003: val_accuracy improved from 0.94320 to 0.95132, saving model to ./model_gensim.h5\n",
            "WARNING:tensorflow:Early stopping conditioned on metric `auc_roc` which is not available. Available metrics are: loss,accuracy,val_loss,val_accuracy\n",
            "10/10 [==============================] - 9s 919ms/step - loss: 0.1422 - accuracy: 0.9573 - val_loss: 0.1751 - val_accuracy: 0.9513\n",
            "Epoch 4/60\n",
            "10/10 [==============================] - ETA: 0s - loss: 0.0979 - accuracy: 0.9756\n",
            "Epoch 00004: val_accuracy did not improve from 0.95132\n",
            "WARNING:tensorflow:Early stopping conditioned on metric `auc_roc` which is not available. Available metrics are: loss,accuracy,val_loss,val_accuracy\n",
            "10/10 [==============================] - 9s 892ms/step - loss: 0.0979 - accuracy: 0.9756 - val_loss: 0.1996 - val_accuracy: 0.9473\n",
            "Epoch 5/60\n",
            "10/10 [==============================] - ETA: 0s - loss: 0.1031 - accuracy: 0.9695\n",
            "Epoch 00005: val_accuracy did not improve from 0.95132\n",
            "WARNING:tensorflow:Early stopping conditioned on metric `auc_roc` which is not available. Available metrics are: loss,accuracy,val_loss,val_accuracy\n",
            "10/10 [==============================] - 9s 903ms/step - loss: 0.1031 - accuracy: 0.9695 - val_loss: 0.2190 - val_accuracy: 0.9493\n",
            "Epoch 6/60\n",
            "10/10 [==============================] - ETA: 0s - loss: 0.0947 - accuracy: 0.9680\n",
            "Epoch 00006: val_accuracy did not improve from 0.95132\n",
            "WARNING:tensorflow:Early stopping conditioned on metric `auc_roc` which is not available. Available metrics are: loss,accuracy,val_loss,val_accuracy\n",
            "10/10 [==============================] - 9s 912ms/step - loss: 0.0947 - accuracy: 0.9680 - val_loss: 0.2164 - val_accuracy: 0.9473\n",
            "Epoch 7/60\n",
            "10/10 [==============================] - ETA: 0s - loss: 0.0680 - accuracy: 0.9787\n",
            "Epoch 00007: val_accuracy improved from 0.95132 to 0.95740, saving model to ./model_gensim.h5\n",
            "WARNING:tensorflow:Early stopping conditioned on metric `auc_roc` which is not available. Available metrics are: loss,accuracy,val_loss,val_accuracy\n",
            "10/10 [==============================] - 9s 958ms/step - loss: 0.0680 - accuracy: 0.9787 - val_loss: 0.2017 - val_accuracy: 0.9574\n",
            "Epoch 8/60\n",
            "10/10 [==============================] - ETA: 0s - loss: 0.0400 - accuracy: 0.9893\n",
            "Epoch 00008: val_accuracy did not improve from 0.95740\n",
            "WARNING:tensorflow:Early stopping conditioned on metric `auc_roc` which is not available. Available metrics are: loss,accuracy,val_loss,val_accuracy\n",
            "10/10 [==============================] - 9s 934ms/step - loss: 0.0400 - accuracy: 0.9893 - val_loss: 0.2264 - val_accuracy: 0.9452\n",
            "Epoch 9/60\n",
            "10/10 [==============================] - ETA: 0s - loss: 0.0455 - accuracy: 0.9868\n",
            "Epoch 00009: val_accuracy did not improve from 0.95740\n",
            "WARNING:tensorflow:Early stopping conditioned on metric `auc_roc` which is not available. Available metrics are: loss,accuracy,val_loss,val_accuracy\n",
            "10/10 [==============================] - 9s 951ms/step - loss: 0.0455 - accuracy: 0.9868 - val_loss: 0.2249 - val_accuracy: 0.9533\n",
            "Epoch 10/60\n",
            "10/10 [==============================] - ETA: 0s - loss: 0.0492 - accuracy: 0.9863\n",
            "Epoch 00010: val_accuracy did not improve from 0.95740\n",
            "WARNING:tensorflow:Early stopping conditioned on metric `auc_roc` which is not available. Available metrics are: loss,accuracy,val_loss,val_accuracy\n",
            "10/10 [==============================] - 10s 960ms/step - loss: 0.0492 - accuracy: 0.9863 - val_loss: 0.2726 - val_accuracy: 0.9270\n",
            "Epoch 11/60\n",
            "10/10 [==============================] - ETA: 0s - loss: 0.0445 - accuracy: 0.9858\n",
            "Epoch 00011: val_accuracy did not improve from 0.95740\n",
            "WARNING:tensorflow:Early stopping conditioned on metric `auc_roc` which is not available. Available metrics are: loss,accuracy,val_loss,val_accuracy\n",
            "10/10 [==============================] - 10s 975ms/step - loss: 0.0445 - accuracy: 0.9858 - val_loss: 0.2372 - val_accuracy: 0.9554\n",
            "Epoch 00011: early stopping\n"
          ]
        }
      ],
      "source": [
        "history_gensim = model_gensim.fit(X_train_pad,y_train, epochs = 60, batch_size = 200, validation_data=(X_test_pad, y_test),verbose = 1, callbacks= [es, mc,roc]  )"
      ]
    },
    {
      "cell_type": "code",
      "execution_count": null,
      "metadata": {
        "colab": {
          "base_uri": "https://localhost:8080/"
        },
        "id": "672CTyRxP6kJ",
        "outputId": "85a455db-069d-46ba-8b62-2341eab770b0"
      },
      "outputs": [
        {
          "output_type": "stream",
          "name": "stdout",
          "text": [
            "16/16 [==============================] - 2s 83ms/step - loss: 0.2372 - accuracy: 0.9554\n"
          ]
        },
        {
          "output_type": "execute_result",
          "data": {
            "text/plain": [
              "[0.2371576875448227, 0.9553752541542053]"
            ]
          },
          "metadata": {},
          "execution_count": 22
        }
      ],
      "source": [
        "model_gensim.evaluate(X_test_pad, y_test) "
      ]
    },
    {
      "cell_type": "code",
      "execution_count": null,
      "metadata": {
        "id": "3jhF8gaoP7XN"
      },
      "outputs": [],
      "source": [
        "import seaborn as sns\n",
        "import matplotlib.pyplot as plt"
      ]
    },
    {
      "cell_type": "code",
      "execution_count": null,
      "metadata": {
        "colab": {
          "base_uri": "https://localhost:8080/",
          "height": 264
        },
        "id": "b02FMKC3PtAW",
        "outputId": "1a8981ce-db4c-44a4-98dc-19f36ca0536e"
      },
      "outputs": [
        {
          "output_type": "display_data",
          "data": {
            "image/png": "[encoded data removed]",
            "text/plain": [
              "<Figure size 432x288 with 1 Axes>"
            ]
          },
          "metadata": {
            "needs_background": "light"
          }
        }
      ],
      "source": [
        "plt.plot(history_gensim.history['accuracy'],c='b',label='train accuracy')\n",
        "plt.plot(history_gensim.history['val_accuracy'],c='r',label='validation accuracy')\n",
        "plt.legend(loc='lower right')\n",
        "plt.show()"
      ]
    },
    {
      "cell_type": "code",
      "execution_count": null,
      "metadata": {
        "colab": {
          "base_uri": "https://localhost:8080/"
        },
        "id": "DF5-mWasG3N3",
        "outputId": "f07b8244-eac1-445f-be8b-20f8ede430d7"
      },
      "outputs": [
        {
          "output_type": "stream",
          "name": "stdout",
          "text": [
            "16/16 [==============================] - 1s 73ms/step - loss: 0.2372 - accuracy: 0.9554\n"
          ]
        },
        {
          "output_type": "execute_result",
          "data": {
            "text/plain": [
              "[0.2371576875448227, 0.9553752541542053]"
            ]
          },
          "metadata": {},
          "execution_count": 25
        }
      ],
      "source": [
        "model_gensim.evaluate(X_test_pad, y_test) "
      ]
    },
    {
      "cell_type": "code",
      "execution_count": null,
      "metadata": {
        "colab": {
          "base_uri": "https://localhost:8080/"
        },
        "id": "84PnAP8uHlXx",
        "outputId": "38678b03-d16a-448c-e686-be04a33c74a0"
      },
      "outputs": [
        {
          "output_type": "stream",
          "name": "stdout",
          "text": [
            "[[3.3785269e-04 9.9964070e-01 2.1416981e-05]] Traffic\n"
          ]
        }
      ],
      "source": [
        "new_complaint = ['There is too much traffic on road which has caused jam from sector 32 to sector 36']\n",
        "seq = tokenizer.texts_to_sequences(new_complaint)\n",
        "padded = pad_sequences(seq, maxlen=171,padding='post')\n",
        "pred = model_gensim.predict(padded)\n",
        "labels = ['Accident','Traffic','Potholes']\n",
        "print(pred, labels[np.argmax(pred)])"
      ]
    },
    {
      "cell_type": "code",
      "source": [
        "from sklearn.metrics import classification_report\n",
        "\n",
        "y_pred=model_gensim.predict(X_test_pad)\n",
        "predicted = np.argmax(y_pred, axis=1)\n",
        "report = classification_report(y_test, predicted)\n",
        "print(report)"
      ],
      "metadata": {
        "id": "VthLhl9rnd5z",
        "outputId": "25bd8e95-bc79-4812-9fe2-60c4e9d107b7",
        "colab": {
          "base_uri": "https://localhost:8080/"
        }
      },
      "execution_count": null,
      "outputs": [
        {
          "output_type": "stream",
          "name": "stdout",
          "text": [
            "              precision    recall  f1-score   support\n",
            "\n",
            "           0       0.92      0.82      0.86        66\n",
            "           1       0.96      0.99      0.97       418\n",
            "           2       0.83      0.56      0.67         9\n",
            "\n",
            "    accuracy                           0.96       493\n",
            "   macro avg       0.90      0.79      0.83       493\n",
            "weighted avg       0.95      0.96      0.95       493\n",
            "\n"
          ]
        }
      ]
    }
  ],
  "metadata": {
    "accelerator": "GPU",
    "colab": {
      "collapsed_sections": [],
      "name": "Main_project_LSTM.ipynb",
      "provenance": []
    },
    "kernelspec": {
      "display_name": "Python 3",
      "name": "python3"
    },
    "language_info": {
      "name": "python"
    }
  },
  "nbformat": 4,
  "nbformat_minor": 0
}