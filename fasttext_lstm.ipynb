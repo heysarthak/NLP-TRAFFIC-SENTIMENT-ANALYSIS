{
  "nbformat": 4,
  "nbformat_minor": 0,
  "metadata": {
    "colab": {
      "name": "fasttext_lstm.ipynb",
      "provenance": [],
      "collapsed_sections": []
    },
    "kernelspec": {
      "name": "python3",
      "display_name": "Python 3"
    },
    "language_info": {
      "name": "python"
    },
    "accelerator": "GPU"
  },
  "cells": [
    {
      "cell_type": "code",
      "metadata": {
        "id": "UJwnCyDZOo0x"
      },
      "source": [
        "\n",
        "import pandas as pd\n",
        "import numpy as np\n",
        "df=pd.read_csv(\"/content/FINAL_DATA2.csv\")\n",
        "df.cleanData=df.cleanData.astype(str)"
      ],
      "execution_count": null,
      "outputs": []
    },
    {
      "cell_type": "code",
      "source": [
        "!pip install fasttext"
      ],
      "metadata": {
        "colab": {
          "base_uri": "https://localhost:8080/"
        },
        "id": "4fpXdqJjZE3E",
        "outputId": "052832f8-3487-4e6e-f2e8-0c48b2decfa2"
      },
      "execution_count": null,
      "outputs": [
        {
          "output_type": "stream",
          "name": "stdout",
          "text": [
            "Collecting fasttext\n",
            "  Downloading fasttext-0.9.2.tar.gz (68 kB)\n",
            "\u001b[?25l\r\u001b[K     |████▊                           | 10 kB 21.8 MB/s eta 0:00:01\r\u001b[K     |█████████▌                      | 20 kB 28.5 MB/s eta 0:00:01\r\u001b[K     |██████████████▎                 | 30 kB 26.2 MB/s eta 0:00:01\r\u001b[K     |███████████████████             | 40 kB 21.5 MB/s eta 0:00:01\r\u001b[K     |███████████████████████▉        | 51 kB 13.7 MB/s eta 0:00:01\r\u001b[K     |████████████████████████████▋   | 61 kB 12.5 MB/s eta 0:00:01\r\u001b[K     |████████████████████████████████| 68 kB 4.4 MB/s \n",
            "\u001b[?25hCollecting pybind11>=2.2\n",
            "  Using cached pybind11-2.8.1-py2.py3-none-any.whl (208 kB)\n",
            "Requirement already satisfied: setuptools>=0.7.0 in /usr/local/lib/python3.7/dist-packages (from fasttext) (57.4.0)\n",
            "Requirement already satisfied: numpy in /usr/local/lib/python3.7/dist-packages (from fasttext) (1.19.5)\n",
            "Building wheels for collected packages: fasttext\n",
            "  Building wheel for fasttext (setup.py) ... \u001b[?25l\u001b[?25hdone\n",
            "  Created wheel for fasttext: filename=fasttext-0.9.2-cp37-cp37m-linux_x86_64.whl size=3126823 sha256=b943cebc6a25e459af104d004aff5d2fd8cca1e0a16831ffc5e069d9a08088c8\n",
            "  Stored in directory: /root/.cache/pip/wheels/4e/ca/bf/b020d2be95f7641801a6597a29c8f4f19e38f9c02a345bab9b\n",
            "Successfully built fasttext\n",
            "Installing collected packages: pybind11, fasttext\n",
            "Successfully installed fasttext-0.9.2 pybind11-2.8.1\n"
          ]
        }
      ]
    },
    {
      "cell_type": "code",
      "metadata": {
        "id": "CnZxGAIfO2f2",
        "colab": {
          "base_uri": "https://localhost:8080/"
        },
        "outputId": "b86b6e6c-5885-4c9b-b3ba-2320ed4edb09"
      },
      "source": [
        "#df['word_length'] = df['cleanData'].apply(lambda x:len(x.split()))\n",
        "df.dtypes"
      ],
      "execution_count": null,
      "outputs": [
        {
          "output_type": "execute_result",
          "data": {
            "text/plain": [
              "twitter_id             int64\n",
              "content               object\n",
              "location              object\n",
              "search_word            int64\n",
              "word_length            int64\n",
              "cleanData             object\n",
              "location_extracted    object\n",
              "dtype: object"
            ]
          },
          "metadata": {},
          "execution_count": 2
        }
      ]
    },
    {
      "cell_type": "code",
      "metadata": {
        "id": "aGZF26HYO4sv"
      },
      "source": [
        "from sklearn.model_selection import train_test_split\n",
        "X_train,X_test, y_train,y_test = train_test_split(df.cleanData,df.search_word, test_size = 0.2, stratify = df.search_word,random_state = 30)"
      ],
      "execution_count": null,
      "outputs": []
    },
    {
      "cell_type": "code",
      "metadata": {
        "id": "fJA4uEwLO78h"
      },
      "source": [
        "from keras.preprocessing.text import Tokenizer\n",
        "num_words = 10000 # this means 10000 unique words can be taken \n",
        "tokenizer=Tokenizer(num_words,lower=True)\n",
        "df_total = pd.concat([X_train, X_test], axis = 0)\n",
        "tokenizer.fit_on_texts(df_total)"
      ],
      "execution_count": null,
      "outputs": []
    },
    {
      "cell_type": "code",
      "source": [
        "df_total"
      ],
      "metadata": {
        "colab": {
          "base_uri": "https://localhost:8080/"
        },
        "id": "2QTfNRoTCbyb",
        "outputId": "6bc11a9b-f3f3-4645-9372-ff97d5fa1d11"
      },
      "execution_count": null,
      "outputs": [
        {
          "output_type": "execute_result",
          "data": {
            "text/plain": [
              "1168                       hindu religious tradition dest\n",
              "2250                       injure mumbai slum house crash\n",
              "858                                       thank keep safe\n",
              "2390                                         singh victor\n",
              "1505    today chandigarhtrafficpolice conduct covid am...\n",
              "                              ...                        \n",
              "409     two day birthday panchkula major anuj rajput d...\n",
              "2345    makeroadssafe not government responsibility ev...\n",
              "678     free amp quality healthcare medicine test oper...\n",
              "294                                    sir thank feedback\n",
              "1014    happy birthday city beautiful chandigarh good ...\n",
              "Name: cleanData, Length: 2462, dtype: object"
            ]
          },
          "metadata": {},
          "execution_count": 5
        }
      ]
    },
    {
      "cell_type": "code",
      "metadata": {
        "colab": {
          "base_uri": "https://localhost:8080/"
        },
        "id": "K1nqe8UdPAGI",
        "outputId": "b3bcae21-8006-4fb1-98f1-6c5a88bc64be"
      },
      "source": [
        "len(tokenizer.word_index)"
      ],
      "execution_count": null,
      "outputs": [
        {
          "output_type": "execute_result",
          "data": {
            "text/plain": [
              "3664"
            ]
          },
          "metadata": {},
          "execution_count": 6
        }
      ]
    },
    {
      "cell_type": "code",
      "metadata": {
        "colab": {
          "base_uri": "https://localhost:8080/"
        },
        "id": "_GXIWBivPB4e",
        "outputId": "3ee7bba6-9340-4f32-c590-a126e9ad423d"
      },
      "source": [
        "df.word_length.max()"
      ],
      "execution_count": null,
      "outputs": [
        {
          "output_type": "execute_result",
          "data": {
            "text/plain": [
              "28"
            ]
          },
          "metadata": {},
          "execution_count": 7
        }
      ]
    },
    {
      "cell_type": "code",
      "metadata": {
        "id": "ymcAMhb1PDv1"
      },
      "source": [
        "from keras.preprocessing.sequence import pad_sequences\n",
        "\n",
        "X_train_ =tokenizer.texts_to_sequences(X_train)\n",
        "X_train_pad=pad_sequences(X_train_,maxlen=171,padding='post')\n",
        "X_test_ = tokenizer.texts_to_sequences(X_test)\n",
        "X_test_pad = pad_sequences(X_test_, maxlen = 171, padding = 'post')"
      ],
      "execution_count": null,
      "outputs": []
    },
    {
      "cell_type": "code",
      "metadata": {
        "colab": {
          "base_uri": "https://localhost:8080/"
        },
        "id": "QS3alF7XPE_W",
        "outputId": "c33cbff5-8df7-43f0-e37b-352b967d1ea8"
      },
      "source": [
        "print(X_train_pad.shape,X_test_pad.shape)"
      ],
      "execution_count": null,
      "outputs": [
        {
          "output_type": "stream",
          "name": "stdout",
          "text": [
            "(1969, 171) (493, 171)\n"
          ]
        }
      ]
    },
    {
      "cell_type": "code",
      "metadata": {
        "colab": {
          "base_uri": "https://localhost:8080/"
        },
        "id": "KXgcK7FRPI5y",
        "outputId": "f774564a-7e9f-47bf-d1db-3772e3606069"
      },
      "source": [
        "import fasttext.util\n",
        "fasttext.util.download_model('en', if_exists='ignore')  # English\n",
        "ft = fasttext.load_model('cc.en.300.bin')"
      ],
      "execution_count": null,
      "outputs": [
        {
          "output_type": "stream",
          "name": "stdout",
          "text": [
            "Downloading https://dl.fbaipublicfiles.com/fasttext/vectors-crawl/cc.en.300.bin.gz\n",
            "\n"
          ]
        },
        {
          "output_type": "stream",
          "name": "stderr",
          "text": [
            "Warning : `load_model` does not return WordVectorModel or SupervisedModel any more, but a `FastText` object which is very similar.\n"
          ]
        }
      ]
    },
    {
      "cell_type": "code",
      "metadata": {
        "id": "A0BRkRJIPZve"
      },
      "source": [
        "vector_size = 300\n",
        "gensim_weight_matrix = np.zeros((num_words ,vector_size))\n",
        "gensim_weight_matrix.shape\n",
        "\n",
        "for word, index in tokenizer.word_index.items():\n",
        "    if index < num_words: # since index starts with zero \n",
        "        if word in ft.words:\n",
        "            gensim_weight_matrix[index] = ft[word]\n",
        "        else:\n",
        "            gensim_weight_matrix[index] = np.zeros(300)"
      ],
      "execution_count": null,
      "outputs": []
    },
    {
      "cell_type": "code",
      "source": [
        "gensim_weight_matrix[:10]"
      ],
      "metadata": {
        "colab": {
          "base_uri": "https://localhost:8080/"
        },
        "id": "-u3g6Ckoh4xA",
        "outputId": "0a57118d-589c-47bf-eae4-ba7c29bd17a6"
      },
      "execution_count": null,
      "outputs": [
        {
          "output_type": "execute_result",
          "data": {
            "text/plain": [
              "array([[ 0.        ,  0.        ,  0.        , ...,  0.        ,\n",
              "         0.        ,  0.        ],\n",
              "       [ 0.21956393,  0.04876548,  0.16747907, ...,  0.16038254,\n",
              "         0.14348492, -0.13686517],\n",
              "       [ 0.06755968,  0.01380814,  0.12010717, ...,  0.06396101,\n",
              "        -0.02703606,  0.01557534],\n",
              "       ...,\n",
              "       [ 0.04202888,  0.00409665,  0.06703693, ..., -0.01205727,\n",
              "        -0.00494438, -0.07276614],\n",
              "       [ 0.00405344, -0.35222372,  0.12422295, ...,  0.049962  ,\n",
              "        -0.20711023, -0.18537791],\n",
              "       [-0.00701304,  0.04581201,  0.03699597, ...,  0.04028849,\n",
              "        -0.02061738,  0.02846464]])"
            ]
          },
          "metadata": {},
          "execution_count": 18
        }
      ]
    },
    {
      "cell_type": "code",
      "metadata": {
        "id": "IMh4ZzuTPcxf",
        "colab": {
          "base_uri": "https://localhost:8080/"
        },
        "outputId": "d0b2f929-d4e3-42ce-f62c-bf3ed96e8330"
      },
      "source": [
        "print(gensim_weight_matrix.shape)\n",
        "from tensorflow.keras.layers import Dense, LSTM, Embedding,Bidirectional\n",
        "import tensorflow\n",
        "from keras.models import Sequential\n",
        "from tensorflow.compat.v1.keras.layers import CuDNNLSTM,CuDNNGRU\n",
        "from tensorflow.keras.layers import Dropout"
      ],
      "execution_count": null,
      "outputs": [
        {
          "output_type": "stream",
          "name": "stdout",
          "text": [
            "(10000, 300)\n"
          ]
        }
      ]
    },
    {
      "cell_type": "code",
      "metadata": {
        "id": "mq1M2FRNPdW0"
      },
      "source": [
        "EMBEDDING_DIM = 300 # this means the embedding layer will create  a vector in 100 dimension\n",
        "model_gensim = Sequential()\n",
        "model_gensim.add(Embedding(input_dim = num_words,# the whole vocabulary size \n",
        "                          output_dim = EMBEDDING_DIM, # vector space dimension\n",
        "                          input_length= X_train_pad.shape[1], # max_len of text sequence\n",
        "                          weights = [gensim_weight_matrix],trainable = False))\n",
        "model_gensim.add(Dropout(0.2))\n",
        "model_gensim.add(Bidirectional(CuDNNLSTM(300,return_sequences=True)))\n",
        "model_gensim.add(Dropout(0.2))\n",
        "model_gensim.add(Bidirectional(CuDNNLSTM(400,return_sequences=True)))\n",
        "model_gensim.add(Dropout(0.2))\n",
        "model_gensim.add(Bidirectional(CuDNNLSTM(400,return_sequences=True)))\n",
        "model_gensim.add(Dropout(0.2))\n",
        "model_gensim.add(Bidirectional(CuDNNLSTM(300,return_sequences=False)))\n",
        "model_gensim.add(Dense(3, activation = 'softmax'))\n",
        "model_gensim.compile(loss = 'sparse_categorical_crossentropy', optimizer = 'adam',metrics = 'accuracy')"
      ],
      "execution_count": null,
      "outputs": []
    },
    {
      "cell_type": "code",
      "metadata": {
        "colab": {
          "base_uri": "https://localhost:8080/"
        },
        "id": "Ijw43OVbPmVa",
        "outputId": "36c83624-39b8-4331-b727-d94fc09164f0"
      },
      "source": [
        "model_gensim.summary()"
      ],
      "execution_count": null,
      "outputs": [
        {
          "output_type": "stream",
          "name": "stdout",
          "text": [
            "Model: \"sequential_3\"\n",
            "_________________________________________________________________\n",
            " Layer (type)                Output Shape              Param #   \n",
            "=================================================================\n",
            " embedding_3 (Embedding)     (None, 171, 300)          3000000   \n",
            "                                                                 \n",
            " dropout_12 (Dropout)        (None, 171, 300)          0         \n",
            "                                                                 \n",
            " bidirectional_12 (Bidirecti  (None, 171, 600)         1444800   \n",
            " onal)                                                           \n",
            "                                                                 \n",
            " dropout_13 (Dropout)        (None, 171, 600)          0         \n",
            "                                                                 \n",
            " bidirectional_13 (Bidirecti  (None, 171, 800)         3206400   \n",
            " onal)                                                           \n",
            "                                                                 \n",
            " dropout_14 (Dropout)        (None, 171, 800)          0         \n",
            "                                                                 \n",
            " bidirectional_14 (Bidirecti  (None, 171, 800)         3846400   \n",
            " onal)                                                           \n",
            "                                                                 \n",
            " dropout_15 (Dropout)        (None, 171, 800)          0         \n",
            "                                                                 \n",
            " bidirectional_15 (Bidirecti  (None, 600)              2644800   \n",
            " onal)                                                           \n",
            "                                                                 \n",
            " dense_3 (Dense)             (None, 3)                 1803      \n",
            "                                                                 \n",
            "=================================================================\n",
            "Total params: 14,144,203\n",
            "Trainable params: 11,144,203\n",
            "Non-trainable params: 3,000,000\n",
            "_________________________________________________________________\n"
          ]
        }
      ]
    },
    {
      "cell_type": "code",
      "metadata": {
        "id": "b0iexeZePm2_"
      },
      "source": [
        "from keras.callbacks import EarlyStopping, ModelCheckpoint\n",
        "\n",
        "\n",
        "es = EarlyStopping(monitor = 'val_loss', mode = 'min', verbose = 1, patience = 8)\n",
        "mc = ModelCheckpoint('./model_gensim.h5', monitor = 'val_accuracy', mode = 'max', verbose = 1, save_best_only = True)"
      ],
      "execution_count": null,
      "outputs": []
    },
    {
      "cell_type": "code",
      "metadata": {
        "colab": {
          "base_uri": "https://localhost:8080/"
        },
        "id": "fJ4BkGn_K9TU",
        "outputId": "983716cb-74c4-4081-e7c7-4e8ea3c8ba67"
      },
      "source": [
        "history_gensim = model_gensim.fit(X_train_pad,y_train, epochs = 60, batch_size = 250, validation_data=(X_test_pad, y_test),verbose = 1, callbacks= [es, mc]  )"
      ],
      "execution_count": null,
      "outputs": [
        {
          "output_type": "stream",
          "name": "stdout",
          "text": [
            "Epoch 1/60\n",
            "8/8 [==============================] - ETA: 0s - loss: 0.6223 - accuracy: 0.7816\n",
            "Epoch 00001: val_accuracy improved from -inf to 0.84584, saving model to ./model_gensim.h5\n",
            "8/8 [==============================] - 32s 3s/step - loss: 0.6223 - accuracy: 0.7816 - val_loss: 0.4067 - val_accuracy: 0.8458\n",
            "Epoch 2/60\n",
            "8/8 [==============================] - ETA: 0s - loss: 0.3532 - accuracy: 0.8751\n",
            "Epoch 00002: val_accuracy improved from 0.84584 to 0.90467, saving model to ./model_gensim.h5\n",
            "8/8 [==============================] - 19s 2s/step - loss: 0.3532 - accuracy: 0.8751 - val_loss: 0.2670 - val_accuracy: 0.9047\n",
            "Epoch 3/60\n",
            "8/8 [==============================] - ETA: 0s - loss: 0.2588 - accuracy: 0.9172\n",
            "Epoch 00003: val_accuracy improved from 0.90467 to 0.93103, saving model to ./model_gensim.h5\n",
            "8/8 [==============================] - 19s 2s/step - loss: 0.2588 - accuracy: 0.9172 - val_loss: 0.2427 - val_accuracy: 0.9310\n",
            "Epoch 4/60\n",
            "8/8 [==============================] - ETA: 0s - loss: 0.2250 - accuracy: 0.9314\n",
            "Epoch 00004: val_accuracy did not improve from 0.93103\n",
            "8/8 [==============================] - 18s 2s/step - loss: 0.2250 - accuracy: 0.9314 - val_loss: 0.2462 - val_accuracy: 0.9270\n",
            "Epoch 5/60\n",
            "8/8 [==============================] - ETA: 0s - loss: 0.1889 - accuracy: 0.9385\n",
            "Epoch 00005: val_accuracy improved from 0.93103 to 0.93509, saving model to ./model_gensim.h5\n",
            "8/8 [==============================] - 19s 2s/step - loss: 0.1889 - accuracy: 0.9385 - val_loss: 0.2041 - val_accuracy: 0.9351\n",
            "Epoch 6/60\n",
            "8/8 [==============================] - ETA: 0s - loss: 0.1587 - accuracy: 0.9467\n",
            "Epoch 00006: val_accuracy improved from 0.93509 to 0.93915, saving model to ./model_gensim.h5\n",
            "8/8 [==============================] - 19s 2s/step - loss: 0.1587 - accuracy: 0.9467 - val_loss: 0.1913 - val_accuracy: 0.9391\n",
            "Epoch 7/60\n",
            "8/8 [==============================] - ETA: 0s - loss: 0.1459 - accuracy: 0.9533\n",
            "Epoch 00007: val_accuracy did not improve from 0.93915\n",
            "8/8 [==============================] - 18s 2s/step - loss: 0.1459 - accuracy: 0.9533 - val_loss: 0.2248 - val_accuracy: 0.9229\n",
            "Epoch 8/60\n",
            "8/8 [==============================] - ETA: 0s - loss: 0.1202 - accuracy: 0.9614\n",
            "Epoch 00008: val_accuracy did not improve from 0.93915\n",
            "8/8 [==============================] - 18s 2s/step - loss: 0.1202 - accuracy: 0.9614 - val_loss: 0.2582 - val_accuracy: 0.9351\n",
            "Epoch 9/60\n",
            "8/8 [==============================] - ETA: 0s - loss: 0.1144 - accuracy: 0.9624\n",
            "Epoch 00009: val_accuracy did not improve from 0.93915\n",
            "8/8 [==============================] - 18s 2s/step - loss: 0.1144 - accuracy: 0.9624 - val_loss: 0.2374 - val_accuracy: 0.9371\n",
            "Epoch 10/60\n",
            "8/8 [==============================] - ETA: 0s - loss: 0.0925 - accuracy: 0.9716\n",
            "Epoch 00010: val_accuracy did not improve from 0.93915\n",
            "8/8 [==============================] - 18s 2s/step - loss: 0.0925 - accuracy: 0.9716 - val_loss: 0.2698 - val_accuracy: 0.9290\n",
            "Epoch 11/60\n",
            "8/8 [==============================] - ETA: 0s - loss: 0.2747 - accuracy: 0.9411\n",
            "Epoch 00011: val_accuracy improved from 0.93915 to 0.94320, saving model to ./model_gensim.h5\n",
            "8/8 [==============================] - 19s 2s/step - loss: 0.2747 - accuracy: 0.9411 - val_loss: 0.2181 - val_accuracy: 0.9432\n",
            "Epoch 12/60\n",
            "8/8 [==============================] - ETA: 0s - loss: 0.1275 - accuracy: 0.9584\n",
            "Epoch 00012: val_accuracy did not improve from 0.94320\n",
            "8/8 [==============================] - 18s 2s/step - loss: 0.1275 - accuracy: 0.9584 - val_loss: 0.2036 - val_accuracy: 0.9432\n",
            "Epoch 13/60\n",
            "8/8 [==============================] - ETA: 0s - loss: 0.1138 - accuracy: 0.9589\n",
            "Epoch 00013: val_accuracy did not improve from 0.94320\n",
            "8/8 [==============================] - 18s 2s/step - loss: 0.1138 - accuracy: 0.9589 - val_loss: 0.2008 - val_accuracy: 0.9432\n",
            "Epoch 14/60\n",
            "8/8 [==============================] - ETA: 0s - loss: 0.0876 - accuracy: 0.9705\n",
            "Epoch 00014: val_accuracy improved from 0.94320 to 0.94523, saving model to ./model_gensim.h5\n",
            "8/8 [==============================] - 19s 2s/step - loss: 0.0876 - accuracy: 0.9705 - val_loss: 0.2202 - val_accuracy: 0.9452\n",
            "Epoch 00014: early stopping\n"
          ]
        }
      ]
    },
    {
      "cell_type": "code",
      "metadata": {
        "id": "672CTyRxP6kJ",
        "colab": {
          "base_uri": "https://localhost:8080/"
        },
        "outputId": "66a7a3fa-d48c-49ff-b519-a18db5f0f803"
      },
      "source": [
        "model_gensim.evaluate(X_test_pad, y_test) "
      ],
      "execution_count": null,
      "outputs": [
        {
          "output_type": "stream",
          "name": "stdout",
          "text": [
            "16/16 [==============================] - 3s 204ms/step - loss: 0.2202 - accuracy: 0.9452\n"
          ]
        },
        {
          "output_type": "execute_result",
          "data": {
            "text/plain": [
              "[0.22017468512058258, 0.9452332854270935]"
            ]
          },
          "metadata": {},
          "execution_count": 51
        }
      ]
    },
    {
      "cell_type": "code",
      "metadata": {
        "id": "3jhF8gaoP7XN"
      },
      "source": [
        "import seaborn as sns\n",
        "import matplotlib.pyplot as plt"
      ],
      "execution_count": null,
      "outputs": []
    },
    {
      "cell_type": "code",
      "metadata": {
        "id": "b02FMKC3PtAW",
        "colab": {
          "base_uri": "https://localhost:8080/",
          "height": 265
        },
        "outputId": "43b714f0-9384-4e26-872c-e8d57345be28"
      },
      "source": [
        "plt.plot(history_gensim.history['accuracy'],c='b',label='train accuracy')\n",
        "plt.plot(history_gensim.history['val_accuracy'],c='r',label='validation accuracy')\n",
        "plt.legend(loc='lower right')\n",
        "plt.show()"
      ],
      "execution_count": null,
      "outputs": [
        {
          "output_type": "display_data",
          "data": {
            "image/png": "[encoded data removed]",
            "text/plain": [
              "<Figure size 432x288 with 1 Axes>"
            ]
          },
          "metadata": {
            "needs_background": "light"
          }
        }
      ]
    },
    {
      "cell_type": "code",
      "metadata": {
        "colab": {
          "base_uri": "https://localhost:8080/"
        },
        "id": "84PnAP8uHlXx",
        "outputId": "17776f36-ba5e-4d5e-d516-9e1fb60ab346"
      },
      "source": [
        "new_complaint = ['There is too much traffic on road which has caused jam from sector 32 to sector 36']\n",
        "seq = tokenizer.texts_to_sequences(new_complaint)\n",
        "padded = pad_sequences(seq, maxlen=171,padding='post')\n",
        "pred = model_gensim.predict(padded)\n",
        "labels = ['Accident','Traffic','Potholes']\n",
        "print(pred, labels[np.argmax(pred)])"
      ],
      "execution_count": null,
      "outputs": [
        {
          "output_type": "stream",
          "name": "stdout",
          "text": [
            "[[1.7515969e-03 9.9814653e-01 1.0190821e-04]] Traffic\n"
          ]
        }
      ]
    },
    {
      "cell_type": "code",
      "source": [
        "from sklearn.metrics import classification_report\n",
        "\n",
        "y_pred=model_gensim.predict(X_test_pad)\n",
        "predicted = np.argmax(y_pred, axis=1)\n",
        "report = classification_report(y_test, predicted)\n",
        "print(report)"
      ],
      "metadata": {
        "id": "J0c2PBhSqv5_",
        "outputId": "da8df6ee-3559-42c2-8382-b0b53c0ac40d",
        "colab": {
          "base_uri": "https://localhost:8080/"
        }
      },
      "execution_count": null,
      "outputs": [
        {
          "output_type": "stream",
          "name": "stdout",
          "text": [
            "              precision    recall  f1-score   support\n",
            "\n",
            "           0       0.87      0.80      0.83        66\n",
            "           1       0.96      0.98      0.97       418\n",
            "           2       0.80      0.44      0.57         9\n",
            "\n",
            "    accuracy                           0.95       493\n",
            "   macro avg       0.88      0.74      0.79       493\n",
            "weighted avg       0.94      0.95      0.94       493\n",
            "\n"
          ]
        }
      ]
    }
  ]
}